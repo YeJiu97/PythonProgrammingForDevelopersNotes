{
 "cells": [
  {
   "cell_type": "markdown",
   "id": "68e701ef-3fcb-446e-aa4c-3fed2d13cff3",
   "metadata": {},
   "source": [
    "## 异常"
   ]
  },
  {
   "cell_type": "markdown",
   "id": "cb9aebdb-a4bf-454c-b5cb-2dcc62e6d542",
   "metadata": {},
   "source": [
    "在进行Python语言的编写的时候，可能会遇到各种异常："
   ]
  },
  {
   "cell_type": "code",
   "execution_count": 1,
   "id": "7ae36d46-990c-49cc-9c24-cd37cf8e8431",
   "metadata": {},
   "outputs": [
    {
     "name": "stdin",
     "output_type": "stream",
     "text": [
      "age: a\n"
     ]
    },
    {
     "ename": "ValueError",
     "evalue": "invalid literal for int() with base 10: 'a'",
     "output_type": "error",
     "traceback": [
      "\u001b[1;31m---------------------------------------------------------------------------\u001b[0m",
      "\u001b[1;31mValueError\u001b[0m                                Traceback (most recent call last)",
      "Input \u001b[1;32mIn [1]\u001b[0m, in \u001b[0;36m<cell line: 1>\u001b[1;34m()\u001b[0m\n\u001b[1;32m----> 1\u001b[0m age \u001b[38;5;241m=\u001b[39m \u001b[38;5;28;43mint\u001b[39;49m\u001b[43m(\u001b[49m\u001b[38;5;28;43minput\u001b[39;49m\u001b[43m(\u001b[49m\u001b[38;5;124;43m\"\u001b[39;49m\u001b[38;5;124;43mage:\u001b[39;49m\u001b[38;5;124;43m\"\u001b[39;49m\u001b[43m)\u001b[49m\u001b[43m)\u001b[49m\n",
      "\u001b[1;31mValueError\u001b[0m: invalid literal for int() with base 10: 'a'"
     ]
    }
   ],
   "source": [
    "age = int(input(\"age:\"))"
   ]
  },
  {
   "cell_type": "markdown",
   "id": "ba2bf55f-ffd6-4bd0-bec5-e84097a4241b",
   "metadata": {},
   "source": [
    "这里需要的是一个int数字，但是给出来的却是一个字符，所以程序出错了。\n",
    "\n",
    "为了防止程序因为某一个问题而整个崩溃，这个时候就需要对这些异常来进行处理。"
   ]
  },
  {
   "cell_type": "code",
   "execution_count": 2,
   "id": "4d8d1f1c-fb90-491b-8d82-88da154ed14e",
   "metadata": {},
   "outputs": [
    {
     "name": "stdin",
     "output_type": "stream",
     "text": [
      "Age:  asd\n"
     ]
    },
    {
     "name": "stdout",
     "output_type": "stream",
     "text": [
      "You should enter a valid age.\n"
     ]
    }
   ],
   "source": [
    "try:\n",
    "    age = int(input(\"Age: \"))\n",
    "except ValueError:\n",
    "    print(\"You should enter a valid age.\")"
   ]
  },
  {
   "cell_type": "markdown",
   "id": "0878c33a-3688-45fb-aae5-6bb366ecf195",
   "metadata": {},
   "source": [
    "同样的一段代码可以会遇到不同的问题："
   ]
  },
  {
   "cell_type": "code",
   "execution_count": 3,
   "id": "a398ff2f-07a5-4189-925e-cc271abe19e5",
   "metadata": {},
   "outputs": [
    {
     "name": "stdin",
     "output_type": "stream",
     "text": [
      "age: 0\n"
     ]
    },
    {
     "ename": "ZeroDivisionError",
     "evalue": "division by zero",
     "output_type": "error",
     "traceback": [
      "\u001b[1;31m---------------------------------------------------------------------------\u001b[0m",
      "\u001b[1;31mZeroDivisionError\u001b[0m                         Traceback (most recent call last)",
      "Input \u001b[1;32mIn [3]\u001b[0m, in \u001b[0;36m<cell line: 2>\u001b[1;34m()\u001b[0m\n\u001b[0;32m      1\u001b[0m age \u001b[38;5;241m=\u001b[39m \u001b[38;5;28mint\u001b[39m(\u001b[38;5;28minput\u001b[39m(\u001b[38;5;124m\"\u001b[39m\u001b[38;5;124mage:\u001b[39m\u001b[38;5;124m\"\u001b[39m))\n\u001b[1;32m----> 2\u001b[0m xfactor \u001b[38;5;241m=\u001b[39m \u001b[38;5;241;43m10\u001b[39;49m\u001b[43m \u001b[49m\u001b[38;5;241;43m/\u001b[39;49m\u001b[43m \u001b[49m\u001b[43mage\u001b[49m\n",
      "\u001b[1;31mZeroDivisionError\u001b[0m: division by zero"
     ]
    }
   ],
   "source": [
    "age = int(input(\"age:\"))\n",
    "xfactor = 10 / age"
   ]
  },
  {
   "cell_type": "markdown",
   "id": "e144b4c5-0440-4974-aea7-6ef163da3e08",
   "metadata": {},
   "source": [
    "在上述的这段代码中，可能遇到两个问题：\n",
    "1. age的值不是int类型\n",
    "2. age的值为0\n",
    "\n",
    "这个时候我们就需要考虑两种情况："
   ]
  },
  {
   "cell_type": "code",
   "execution_count": 5,
   "id": "2f08277e-51b7-4c21-b9c9-819c88c87503",
   "metadata": {},
   "outputs": [
    {
     "name": "stdin",
     "output_type": "stream",
     "text": [
      "Age:  1\n"
     ]
    },
    {
     "name": "stdout",
     "output_type": "stream",
     "text": [
      "Program keeps running.\n"
     ]
    }
   ],
   "source": [
    "try:\n",
    "    age = int(input(\"Age: \"))\n",
    "    xfactor = 10 / age\n",
    "except ValueError:\n",
    "    print(\"You did not enter a valid age.\")\n",
    "except ZeroDivisionError:\n",
    "    print(\"Age can not be 0.\")\n",
    "else:\n",
    "    print(\"Program keeps running.\")"
   ]
  },
  {
   "cell_type": "markdown",
   "id": "f5774b9b-bacf-4033-9595-41422aaed14e",
   "metadata": {},
   "source": [
    "如果有一个操作始终需要被执行，则可以在最后添加一个finally关键字："
   ]
  },
  {
   "cell_type": "code",
   "execution_count": 7,
   "id": "7d9d2092-ceac-42cc-a93b-1ed90622169e",
   "metadata": {},
   "outputs": [
    {
     "name": "stdin",
     "output_type": "stream",
     "text": [
      "Age:  12\n"
     ]
    },
    {
     "name": "stdout",
     "output_type": "stream",
     "text": [
      "Program keeps running.\n",
      "0.8333333333333334\n"
     ]
    }
   ],
   "source": [
    "try:\n",
    "    age = int(input(\"Age: \"))\n",
    "    xfactor = 10 / age\n",
    "except ValueError:\n",
    "    print(\"You did not enter a valid age.\")\n",
    "except ZeroDivisionError:\n",
    "    print(\"Age can not be 0.\")\n",
    "else:\n",
    "    print(\"Program keeps running.\")\n",
    "finally:\n",
    "    print(xfactor)"
   ]
  },
  {
   "cell_type": "markdown",
   "id": "1a297dd2-7e0a-4dc3-b73e-c7ff6e1d6361",
   "metadata": {},
   "source": [
    "我们可以自己搭建一个："
   ]
  },
  {
   "cell_type": "code",
   "execution_count": 8,
   "id": "e7baa25b-4b0b-44d0-ade2-88eda8d8ba9a",
   "metadata": {},
   "outputs": [
    {
     "name": "stdout",
     "output_type": "stream",
     "text": [
      "Age cannot be 0 or less.\n"
     ]
    }
   ],
   "source": [
    "def calculate_xfactor(age):\n",
    "    if age <= 0:\n",
    "        raise ValueError(\"Age cannot be 0 or less.\")\n",
    "    return 10 / age\n",
    "\n",
    "try:\n",
    "    calculate_xfactor(-1)\n",
    "except ValueError as error:\n",
    "    print(error)"
   ]
  }
 ],
 "metadata": {
  "kernelspec": {
   "display_name": "Python 3 (ipykernel)",
   "language": "python",
   "name": "python3"
  },
  "language_info": {
   "codemirror_mode": {
    "name": "ipython",
    "version": 3
   },
   "file_extension": ".py",
   "mimetype": "text/x-python",
   "name": "python",
   "nbconvert_exporter": "python",
   "pygments_lexer": "ipython3",
   "version": "3.10.5"
  }
 },
 "nbformat": 4,
 "nbformat_minor": 5
}
