{
 "cells": [
  {
   "cell_type": "markdown",
   "id": "1dfae1f3-6ca4-4ca0-89e8-1256cbadecb4",
   "metadata": {},
   "source": [
    "## 函数"
   ]
  },
  {
   "cell_type": "markdown",
   "id": "48a2f2af-2cdb-4d89-a0f9-242a0b72e839",
   "metadata": {},
   "source": [
    "函数是组织好的，可重复使用的，用来实现单一，或相关联功能的代码段。"
   ]
  },
  {
   "cell_type": "code",
   "execution_count": 3,
   "id": "7e72ea27-b1da-42e7-b137-fbc8f12e71a5",
   "metadata": {},
   "outputs": [
    {
     "name": "stdout",
     "output_type": "stream",
     "text": [
      "(10, 20)\n"
     ]
    }
   ],
   "source": [
    "# 一段函数，采用def来进行声明\n",
    "def increasement(number_01, number_02):\n",
    "    \"\"\"函数将会将两个数字作为tuple进行返回\"\"\"\n",
    "    return (number_01, number_02)\n",
    "\n",
    "print(increasement(10, 20))"
   ]
  },
  {
   "cell_type": "code",
   "execution_count": 2,
   "id": "fef35b78-a40a-4501-adff-69c0a56b1720",
   "metadata": {},
   "outputs": [],
   "source": [
    "# 一个更好的写法\n",
    "# number_01和number_02的类型都是int\n",
    "# number_02 的默认值是 1\n",
    "# 函数的返回值是tuple\n",
    "def increasement(number_01 : int, number_02 : int = 1) -> tuple:\n",
    "        \"\"\"函数将会将两个数字作为tuple进行返回\"\"\"\n",
    "        return (number_01, number_02)"
   ]
  },
  {
   "cell_type": "markdown",
   "id": "0f1e21a4-9dd4-40b8-a038-2175945c2e3a",
   "metadata": {},
   "source": [
    "考虑出现多个arguments的情况："
   ]
  },
  {
   "cell_type": "code",
   "execution_count": 4,
   "id": "29c67cfb-5215-482b-b78c-186c5c96e7ac",
   "metadata": {},
   "outputs": [],
   "source": [
    "# 多个且不定长的参数:\n",
    "def multiply(*list):\n",
    "    # 打印查看list参数的类型\n",
    "    print(list)\n",
    "    print(type(list))\n",
    "    \n",
    "    # 进行操作\n",
    "    result = 1\n",
    "    for num in list:\n",
    "        result *= num\n",
    "    return result"
   ]
  },
  {
   "cell_type": "code",
   "execution_count": 5,
   "id": "caacabcd-1fbd-4632-a9bc-0e7b0b600a37",
   "metadata": {},
   "outputs": [
    {
     "name": "stdout",
     "output_type": "stream",
     "text": [
      "(1, 2, 3, 4, 5, 6, 7, 8, 9, 10)\n",
      "<class 'tuple'>\n"
     ]
    },
    {
     "data": {
      "text/plain": [
       "3628800"
      ]
     },
     "execution_count": 5,
     "metadata": {},
     "output_type": "execute_result"
    }
   ],
   "source": [
    "# 测试\n",
    "multiply(1, 2, 3, 4, 5, 6, 7, 8, 9, 10)"
   ]
  },
  {
   "cell_type": "markdown",
   "id": "579b51de-be63-4823-9182-dd11863afd93",
   "metadata": {},
   "source": [
    "从测试的结果不难发现，*list将会讲传入的参数存储为元祖来进行使用。"
   ]
  },
  {
   "cell_type": "code",
   "execution_count": 10,
   "id": "0c6e7e65-23d1-4321-a39c-b11bc95f669b",
   "metadata": {},
   "outputs": [],
   "source": [
    "# **的情况\n",
    "def save_user(**user):\n",
    "    print(user)"
   ]
  },
  {
   "cell_type": "code",
   "execution_count": 13,
   "id": "7900f664-d83d-4f3f-a337-f0d3ce165d4b",
   "metadata": {},
   "outputs": [
    {
     "name": "stdout",
     "output_type": "stream",
     "text": [
      "{'id': 1, 'name': 'admin', 'password': 'qwerty'}\n"
     ]
    }
   ],
   "source": [
    "save_user(id = 1, name = \"admin\", password = \"qwerty\")"
   ]
  },
  {
   "cell_type": "markdown",
   "id": "37735b83-870a-4a04-b33d-9084de810836",
   "metadata": {},
   "source": [
    "可以发现，** 可以用来处理指定key的参数。"
   ]
  },
  {
   "cell_type": "markdown",
   "id": "eae83ace-ec4e-47e9-815c-f048a099c809",
   "metadata": {},
   "source": [
    "## Lambda Function"
   ]
  },
  {
   "cell_type": "markdown",
   "id": "83c98ba8-0b75-4283-b49a-33e870311075",
   "metadata": {},
   "source": [
    "lanbda函数是一种小的匿名函数。"
   ]
  },
  {
   "cell_type": "code",
   "execution_count": 14,
   "id": "564c6996-3d45-4b7d-a80b-41685a470493",
   "metadata": {},
   "outputs": [],
   "source": [
    "# lambda arguments : expression"
   ]
  },
  {
   "cell_type": "code",
   "execution_count": 15,
   "id": "1a8e5e09-e68f-4e80-9889-8cb6bfbe95a3",
   "metadata": {},
   "outputs": [
    {
     "name": "stdout",
     "output_type": "stream",
     "text": [
      "20\n"
     ]
    }
   ],
   "source": [
    "# 例子\n",
    "x = lambda a : a + 10\n",
    "print(x(10))"
   ]
  },
  {
   "cell_type": "markdown",
   "id": "2a57b953-26db-4e69-8220-c4dc26560693",
   "metadata": {},
   "source": [
    "## Map Function"
   ]
  },
  {
   "cell_type": "markdown",
   "id": "01d2d7cf-6284-4880-b5c9-1da5b0df44cf",
   "metadata": {},
   "source": [
    "首先看一下这样的一个例子："
   ]
  },
  {
   "cell_type": "code",
   "execution_count": 1,
   "id": "198d11ce-ba96-4161-bbef-5c2cc973f4a3",
   "metadata": {},
   "outputs": [
    {
     "name": "stdout",
     "output_type": "stream",
     "text": [
      "[10, 20, 30, 40]\n"
     ]
    }
   ],
   "source": [
    "items = [\n",
    "    (\"Product_01\", 10),\n",
    "    (\"Product_02\", 20),\n",
    "    (\"Product_03\", 30),\n",
    "    (\"Product_04\", 40)\n",
    "]\n",
    "\n",
    "prices = []\n",
    "\n",
    "for item in items:\n",
    "    prices.append(item[1])\n",
    "\n",
    "print(prices)"
   ]
  },
  {
   "cell_type": "markdown",
   "id": "49c17724-51e9-4a3f-b18a-23f2c43f8ed9",
   "metadata": {},
   "source": [
    "使用map函数来替代："
   ]
  },
  {
   "cell_type": "code",
   "execution_count": 6,
   "id": "7d57c462-91d6-4aa5-b7e8-a28c36f83464",
   "metadata": {},
   "outputs": [
    {
     "name": "stdout",
     "output_type": "stream",
     "text": [
      "[10, 20, 30, 40]\n"
     ]
    }
   ],
   "source": [
    "items = [\n",
    "    (\"Product_01\", 10),\n",
    "    (\"Product_02\", 20),\n",
    "    (\"Product_03\", 30),\n",
    "    (\"Product_04\", 40)\n",
    "]\n",
    "\n",
    "x = list(map(lambda item : item[1], items))\n",
    "\n",
    "print(x)"
   ]
  },
  {
   "cell_type": "markdown",
   "id": "bb34464b-e0fb-4495-8895-193f7a809800",
   "metadata": {},
   "source": [
    "## Filter函数"
   ]
  },
  {
   "cell_type": "code",
   "execution_count": 8,
   "id": "2de76629-46f3-4b30-898a-f3fbd507e44c",
   "metadata": {},
   "outputs": [
    {
     "name": "stdout",
     "output_type": "stream",
     "text": [
      "[('Product_03', 30), ('Product_04', 40)]\n"
     ]
    }
   ],
   "source": [
    "items = [\n",
    "    (\"Product_01\", 10),\n",
    "    (\"Product_02\", 20),\n",
    "    (\"Product_03\", 30),\n",
    "    (\"Product_04\", 40)\n",
    "]\n",
    "\n",
    "x = list(filter(lambda item : item[1] >= 23, items))\n",
    "\n",
    "print(x)"
   ]
  },
  {
   "cell_type": "markdown",
   "id": "c6f064a6-33dd-4676-b73c-9191fac6949d",
   "metadata": {},
   "source": [
    "## 表达式"
   ]
  },
  {
   "cell_type": "code",
   "execution_count": 10,
   "id": "f80373a8-2cc5-4f3c-928b-67683fe34ccd",
   "metadata": {},
   "outputs": [
    {
     "data": {
      "text/plain": [
       "[('Product_02', 20),\n",
       " ('Product_02', 20),\n",
       " ('Product_02', 20),\n",
       " ('Product_02', 20)]"
      ]
     },
     "execution_count": 10,
     "metadata": {},
     "output_type": "execute_result"
    }
   ],
   "source": [
    "prices = [items[1] for item in items]\n",
    "prices"
   ]
  },
  {
   "cell_type": "code",
   "execution_count": 11,
   "id": "34d1fa46-294d-49b4-94d6-85e5523c08f7",
   "metadata": {},
   "outputs": [
    {
     "data": {
      "text/plain": [
       "[0, 1, 2, 3, 4, 5, 6, 7, 8, 9, 10, 11, 12, 13, 14, 15, 16, 17, 18, 19]"
      ]
     },
     "execution_count": 11,
     "metadata": {},
     "output_type": "execute_result"
    }
   ],
   "source": [
    "list_num = [x for x in range(20)]\n",
    "list_num"
   ]
  },
  {
   "cell_type": "markdown",
   "id": "3dc74796-d476-48d8-b9f5-f22da00ceef1",
   "metadata": {},
   "source": [
    "## Zip Function"
   ]
  },
  {
   "cell_type": "code",
   "execution_count": 12,
   "id": "73faa530-f2dc-453a-b681-71aea1615edf",
   "metadata": {},
   "outputs": [
    {
     "name": "stdout",
     "output_type": "stream",
     "text": [
      "[('a', 1, 10), ('b', 2, 20), ('c', 3, 30)]\n"
     ]
    }
   ],
   "source": [
    "list_01 = [1, 2, 3]\n",
    "list_02 = [10, 20, 30]\n",
    "\n",
    "print(list(zip(\"abc\", list_01, list_02)))"
   ]
  }
 ],
 "metadata": {
  "kernelspec": {
   "display_name": "Python 3 (ipykernel)",
   "language": "python",
   "name": "python3"
  },
  "language_info": {
   "codemirror_mode": {
    "name": "ipython",
    "version": 3
   },
   "file_extension": ".py",
   "mimetype": "text/x-python",
   "name": "python",
   "nbconvert_exporter": "python",
   "pygments_lexer": "ipython3",
   "version": "3.10.5"
  }
 },
 "nbformat": 4,
 "nbformat_minor": 5
}
