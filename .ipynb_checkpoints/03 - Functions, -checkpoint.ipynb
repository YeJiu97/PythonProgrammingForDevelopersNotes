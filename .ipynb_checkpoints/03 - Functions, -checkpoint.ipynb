{
 "cells": [
  {
   "cell_type": "markdown",
   "id": "1dfae1f3-6ca4-4ca0-89e8-1256cbadecb4",
   "metadata": {},
   "source": [
    "## 函数"
   ]
  }
 ],
 "metadata": {
  "kernelspec": {
   "display_name": "Python 3 (ipykernel)",
   "language": "python",
   "name": "python3"
  },
  "language_info": {
   "codemirror_mode": {
    "name": "ipython",
    "version": 3
   },
   "file_extension": ".py",
   "mimetype": "text/x-python",
   "name": "python",
   "nbconvert_exporter": "python",
   "pygments_lexer": "ipython3",
   "version": "3.10.5"
  }
 },
 "nbformat": 4,
 "nbformat_minor": 5
}
