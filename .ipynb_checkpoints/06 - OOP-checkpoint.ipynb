{
 "cells": [
  {
   "cell_type": "markdown",
   "id": "b6e6ef83-9a77-424c-b298-256176cbcc5c",
   "metadata": {},
   "source": [
    "## Class"
   ]
  },
  {
   "cell_type": "markdown",
   "id": "ff6e4da7-a77d-41b6-8837-7e10d16e6bf6",
   "metadata": {},
   "source": [
    "类是对一系列的实例的共同属性的抽象。"
   ]
  },
  {
   "cell_type": "code",
   "execution_count": 4,
   "id": "eefbd9b1-6036-4974-8b4c-55f12f181446",
   "metadata": {},
   "outputs": [
    {
     "name": "stdout",
     "output_type": "stream",
     "text": [
      "<class '__main__.Point'>\n",
      "True\n"
     ]
    }
   ],
   "source": [
    "class Point:\n",
    "    def draw(self):\n",
    "        print(\"Draw\")\n",
    "\n",
    "point = Point()\n",
    "print(type(point))\n",
    "print(isinstance(point, Point))  # isinstance(x, y) 可以用来判断x和y是否是同一个instance"
   ]
  },
  {
   "cell_type": "markdown",
   "id": "25cdeb59-4c7b-4816-bf4d-cf449d2c94af",
   "metadata": {},
   "source": [
    "拓展："
   ]
  },
  {
   "cell_type": "code",
   "execution_count": 6,
   "id": "6743aebf-5d16-4e99-9c45-24f4e4cdce92",
   "metadata": {},
   "outputs": [
    {
     "name": "stdout",
     "output_type": "stream",
     "text": [
      "Point (1, 2)\n"
     ]
    }
   ],
   "source": [
    "class Point:\n",
    "    def __init__(self, x, y):\n",
    "        self.x = x\n",
    "        self.y = y\n",
    "        \n",
    "    def draw(self):\n",
    "        print(f\"Point ({self.x}, {self.y})\")\n",
    "\n",
    "point = Point(1, 2)\n",
    "point.draw()"
   ]
  },
  {
   "cell_type": "code",
   "execution_count": 7,
   "id": "2a2c0b3c-0d1a-4f97-bf31-9cefc2aa4f96",
   "metadata": {},
   "outputs": [
    {
     "data": {
      "text/plain": [
       "<bound method Point.__init__ of <__main__.Point object at 0x0000023F97CC7370>>"
      ]
     },
     "execution_count": 7,
     "metadata": {},
     "output_type": "execute_result"
    }
   ],
   "source": [
    "# 一些魔术方法\n",
    "point.__init__"
   ]
  },
  {
   "cell_type": "code",
   "execution_count": 8,
   "id": "17b91656-61e0-4471-a442-ab008a61ce2c",
   "metadata": {},
   "outputs": [
    {
     "data": {
      "text/plain": [
       "<method-wrapper '__str__' of Point object at 0x0000023F97CC7370>"
      ]
     },
     "execution_count": 8,
     "metadata": {},
     "output_type": "execute_result"
    }
   ],
   "source": [
    "point.__str__"
   ]
  }
 ],
 "metadata": {
  "kernelspec": {
   "display_name": "Python 3 (ipykernel)",
   "language": "python",
   "name": "python3"
  },
  "language_info": {
   "codemirror_mode": {
    "name": "ipython",
    "version": 3
   },
   "file_extension": ".py",
   "mimetype": "text/x-python",
   "name": "python",
   "nbconvert_exporter": "python",
   "pygments_lexer": "ipython3",
   "version": "3.10.5"
  }
 },
 "nbformat": 4,
 "nbformat_minor": 5
}
